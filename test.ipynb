{
 "cells": [
  {
   "cell_type": "code",
   "execution_count": 8,
   "metadata": {},
   "outputs": [],
   "source": [
    "import torch.utils\n",
    "from torch.utils.data import DataLoader\n",
    "import torchvision, torch\n",
    "import numpy as np\n",
    "from torchvision.transforms import v2\n",
    "from torchvision import transforms\n",
    "from PIL import Image\n",
    "from os import sys\n",
    "from torchvision import models\n",
    "from torch import nn\n",
    "from torch import cuda"
   ]
  },
  {
   "cell_type": "code",
   "execution_count": 9,
   "metadata": {},
   "outputs": [],
   "source": [
    "def predict_image(\n",
    "    model,\n",
    "    image_path,\n",
    "    class_names=[\"indoor\", \"outdoor\"],\n",
    "):\n",
    "    preprocess = transforms.Compose(\n",
    "        [\n",
    "            transforms.Resize(560),\n",
    "            transforms.CenterCrop(560 - 24),\n",
    "            transforms.ToTensor(),\n",
    "            transforms.Normalize(mean=[0.485, 0.456, 0.406], std=[0.229, 0.224, 0.225]),\n",
    "        ]\n",
    "    )\n",
    "\n",
    "    image = Image.open(image_path)\n",
    "    image_tensor = preprocess(image).unsqueeze(0)\n",
    "    device = cuda.device(\"cuda\") if cuda.is_available() else \"cpu\"\n",
    "\n",
    "    with torch.no_grad():\n",
    "        model = model.to(device)\n",
    "        output = model(image_tensor)\n",
    "\n",
    "    _, predicted = torch.max(output, 1)\n",
    "\n",
    "    # print(f'Predicted class: {class_names[predicted.item()]}')\n",
    "    print(predicted.item())\n",
    "    return class_names[predicted.item()]\n",
    "\n",
    "\n",
    "def predict_environment(imagepath):\n",
    "    model = models.mobilenet_v3_large(weights=\"DEFAULT\")\n",
    "    num_classes = 2\n",
    "    model.classifier = nn.Sequential(\n",
    "        nn.Linear(in_features=960, out_features=1280, bias=True),\n",
    "        nn.Hardswish(),\n",
    "        nn.Dropout(p=0.2),\n",
    "        nn.Linear(in_features=1280, out_features=num_classes, bias=True),\n",
    "    )\n",
    "    map_loc = cuda.device(\"cuda\") if cuda.is_available() else \"cpu\"\n",
    "    model.load_state_dict(\n",
    "        torch.load(\"models-indoor-outdoor/best_model.pth\", map_location=map_loc)\n",
    "    )\n",
    "    pred = predict_image(model, imagepath)\n",
    "    # print(f\"Predicted class: {pred}\")\n",
    "    return pred"
   ]
  },
  {
   "cell_type": "code",
   "execution_count": 10,
   "metadata": {},
   "outputs": [
    {
     "name": "stdout",
     "output_type": "stream",
     "text": [
      "0\n",
      "indoor\n"
     ]
    }
   ],
   "source": [
    "imagepath = \"./scene-images/indoor1.jpg\"\n",
    "\n",
    "pred_env = predict_environment(imagepath)\n",
    "print(pred_env)"
   ]
  },
  {
   "cell_type": "code",
   "execution_count": null,
   "metadata": {},
   "outputs": [],
   "source": []
  }
 ],
 "metadata": {
  "kernelspec": {
   "display_name": "Python 3",
   "language": "python",
   "name": "python3"
  },
  "language_info": {
   "codemirror_mode": {
    "name": "ipython",
    "version": 3
   },
   "file_extension": ".py",
   "mimetype": "text/x-python",
   "name": "python",
   "nbconvert_exporter": "python",
   "pygments_lexer": "ipython3",
   "version": "3.12.2"
  }
 },
 "nbformat": 4,
 "nbformat_minor": 2
}
